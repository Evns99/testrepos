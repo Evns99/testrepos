{
  "metadata": {
    "language_info": {
      "codemirror_mode": {
        "name": "python",
        "version": 3
      },
      "file_extension": ".py",
      "mimetype": "text/x-python",
      "name": "python",
      "nbconvert_exporter": "python",
      "pygments_lexer": "ipython3",
      "version": "3.8"
    },
    "kernelspec": {
      "name": "python",
      "display_name": "Pyolite",
      "language": "python"
    }
  },
  "nbformat_minor": 4,
  "nbformat": 4,
  "cells": [
    {
      "cell_type": "markdown",
      "source": "# My Jupyter Notebook on IBM Watson Studio",
      "metadata": {}
    },
    {
      "cell_type": "markdown",
      "source": "I am Evans AMOUSSOU",
      "metadata": {}
    },
    {
      "cell_type": "markdown",
      "source": "and I want to become a Data Scientist",
      "metadata": {}
    },
    {
      "cell_type": "markdown",
      "source": "I'm interested in data science because during my rotion program, I have discovered a passion fof data and data analysis",
      "metadata": {}
    },
    {
      "cell_type": "markdown",
      "source": "### The code below show you my age",
      "metadata": {}
    },
    {
      "cell_type": "code",
      "source": "age = 23\nprint(\"I have\", age,\"year old\")",
      "metadata": {
        "trusted": true
      },
      "execution_count": 3,
      "outputs": [
        {
          "name": "stdout",
          "text": "I have 23 year old\n",
          "output_type": "stream"
        }
      ]
    },
    {
      "cell_type": "code",
      "source": "",
      "metadata": {},
      "execution_count": null,
      "outputs": []
    }
  ]
}